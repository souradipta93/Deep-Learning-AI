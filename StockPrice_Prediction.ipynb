{
  "nbformat": 4,
  "nbformat_minor": 0,
  "metadata": {
    "colab": {
      "name": "StockPrice_Prediction.ipynb",
      "provenance": [],
      "include_colab_link": true
    },
    "kernelspec": {
      "name": "python3",
      "display_name": "Python 3"
    },
    "accelerator": "GPU"
  },
  "cells": [
    {
      "cell_type": "markdown",
      "metadata": {
        "id": "view-in-github",
        "colab_type": "text"
      },
      "source": [
        "<a href=\"https://colab.research.google.com/github/souradipta93/Deep-Learning-AI/blob/main/StockPrice_Prediction.ipynb\" target=\"_parent\"><img src=\"https://colab.research.google.com/assets/colab-badge.svg\" alt=\"Open In Colab\"/></a>"
      ]
    },
    {
      "cell_type": "code",
      "metadata": {
        "colab": {
          "base_uri": "https://localhost:8080/"
        },
        "id": "r7m-5A2ZwXht",
        "outputId": "ba314979-4a7d-4832-ac1c-8f43a8cee3a6"
      },
      "source": [
        "# Importing the libraries\n",
        "import numpy as np\n",
        "import matplotlib.pyplot as plt\n",
        "import pandas as pd\n",
        "\n",
        "# Importing the training set\n",
        "dataset_train = pd.read_csv('Google_Stock_Price_Train.csv')\n",
        "print(dataset_train.head())\n",
        "\n",
        "# To create a numpy array we select the column and add .values\n",
        "# Neural networks can only accept numpy array as input\n",
        "training_set = dataset_train.iloc[:, 1:2].values\n",
        "print('\\n')\n",
        "training_set"
      ],
      "execution_count": null,
      "outputs": [
        {
          "output_type": "stream",
          "text": [
            "       Date    Open    High     Low   Close      Volume\n",
            "0  1/3/2012  325.25  332.83  324.97  663.59   7,380,500\n",
            "1  1/4/2012  331.27  333.87  329.08  666.45   5,749,400\n",
            "2  1/5/2012  329.83  330.75  326.89  657.21   6,590,300\n",
            "3  1/6/2012  328.34  328.77  323.68  648.24   5,405,900\n",
            "4  1/9/2012  322.04  322.29  309.46  620.76  11,688,800\n",
            "\n",
            "\n"
          ],
          "name": "stdout"
        },
        {
          "output_type": "execute_result",
          "data": {
            "text/plain": [
              "array([[325.25],\n",
              "       [331.27],\n",
              "       [329.83],\n",
              "       ...,\n",
              "       [793.7 ],\n",
              "       [783.33],\n",
              "       [782.75]])"
            ]
          },
          "metadata": {
            "tags": []
          },
          "execution_count": 5
        }
      ]
    },
    {
      "cell_type": "code",
      "metadata": {
        "colab": {
          "base_uri": "https://localhost:8080/"
        },
        "id": "wKRBZVjhwqbs",
        "outputId": "0428c622-477e-4342-91da-85a729650e80"
      },
      "source": [
        "# Feature Scaling\n",
        "from sklearn.preprocessing import MinMaxScaler\n",
        "# All our scaled values will be between 0 and 1\n",
        "sc = MinMaxScaler(feature_range = (0, 1))\n",
        "training_set_scaled = sc.fit_transform(training_set)\n",
        "training_set_scaled"
      ],
      "execution_count": null,
      "outputs": [
        {
          "output_type": "execute_result",
          "data": {
            "text/plain": [
              "array([[0.08581368],\n",
              "       [0.09701243],\n",
              "       [0.09433366],\n",
              "       ...,\n",
              "       [0.95725128],\n",
              "       [0.93796041],\n",
              "       [0.93688146]])"
            ]
          },
          "metadata": {
            "tags": []
          },
          "execution_count": 7
        }
      ]
    },
    {
      "cell_type": "code",
      "metadata": {
        "id": "fkjeSpQ54kJ-"
      },
      "source": [
        "# Creating a data structure with 60 timesteps and 1 output\n",
        "# Look at the 60 timesteps in the past to get a trend, learn by trial and error\n",
        "X_train = []\n",
        "y_train = []\n",
        "# Start from 60th day and go to 1257 which must be written as 1258\n",
        "# Memorize the first 60 values to predict the 61st price\n",
        "# If you use the range fuction for example range(1,5) then the models stops at 4\n",
        "for i in range(60, 1258):\n",
        "  # example when i = 60, [60-60:60,0]\n",
        "  # Implies [0:60,0]\n",
        "  # Data is indexed from 0 so it stops at 59th timestep\n",
        "    X_train.append(training_set_scaled[i-60:i, 0])\n",
        "    # the value of i = 60 in the beginning\n",
        "    y_train.append(training_set_scaled[i, 0])\n"
      ],
      "execution_count": null,
      "outputs": []
    },
    {
      "cell_type": "code",
      "metadata": {
        "colab": {
          "base_uri": "https://localhost:8080/"
        },
        "id": "Ifkc_tKSwy0A",
        "outputId": "76e21b6a-11b6-43b4-8b72-e62f951e7258"
      },
      "source": [
        "# X_train and Y_train are list and have to converted to np.array\n",
        "# Only Numpy Array can be fed into DNN function\n",
        "# X_Train :check the row. It has 60 past value\n",
        "X_train, y_train = np.array(X_train), np.array(y_train)\n",
        "print(len(y_train)) # 1258 - 60 = 1198\n",
        "\n",
        "# Reshaping\n",
        "# To add a dimension to numpy array we must use numpy array\n",
        "# In Python shape() is used in pandas to give number of row(0)/column(1)\n",
        "# RNN accepts 3D tensor with shape (batch_size, timesteps, input_dim)\n",
        "X_train = np.reshape(X_train, (X_train.shape[0], X_train.shape[1], 1))"
      ],
      "execution_count": null,
      "outputs": [
        {
          "output_type": "stream",
          "text": [
            "1198\n"
          ],
          "name": "stdout"
        }
      ]
    },
    {
      "cell_type": "code",
      "metadata": {
        "colab": {
          "base_uri": "https://localhost:8080/"
        },
        "id": "PrnkNvhaw0qF",
        "outputId": "8d967113-0d14-4734-e636-1c74e4cea857"
      },
      "source": [
        "# Importing the Keras libraries and packages\n",
        "from keras.models import Sequential\n",
        "from keras.layers import Dense\n",
        "from keras.layers import LSTM\n",
        "from keras.layers import Dropout\n",
        "\n",
        "# Initialising the RNN\n",
        "# Regressor - predicting a continuous value like stock price so doing regression\n",
        "regressor = Sequential()\n",
        "# Adding the first LSTM layer and some Dropout regularisation\n",
        "# Return_sequences = True because we are going to add another LTSM\n",
        "# Input_Shape: Input only timesteps and indicator\n",
        "# the data set X_train.shape[0] will be taken automatically\n",
        "# The input data is always 3D as required by Keras and discussed\n",
        "# Rate of neurons to drop in a LTSM layer during each iteration of the training\n",
        "regressor.add(LSTM(units = 50, return_sequences = True, input_shape = (X_train.shape[1], 1)))\n",
        "regressor.add(Dropout(0.2))\n",
        "\n",
        "# Adding a second LSTM layer and some Dropout regularisation\n",
        "regressor.add(LSTM(units = 50, return_sequences = True))\n",
        "regressor.add(Dropout(0.2))\n",
        "\n",
        "# Adding a third LSTM layer and some Dropout regularisation\n",
        "regressor.add(LSTM(units = 50, return_sequences = True))\n",
        "regressor.add(Dropout(0.2))\n",
        "\n",
        "# Adding a fourth LSTM layer and some Dropout regularisation\n",
        "# return_sequences = False so dropped return_sequences as default is False\n",
        "regressor.add(LSTM(units = 50))\n",
        "regressor.add(Dropout(0.2))\n",
        "\n",
        "# Adding the output layer and connecting a fully connected layer\n",
        "regressor.add(Dense(units = 1))\n",
        "\n",
        "# Compiling the RNN\n",
        "# Loss is MSE as we are doing regression and not classification\n",
        "regressor.compile(optimizer = 'adam', loss = 'mean_squared_error')\n",
        "\n",
        "# Fitting the RNN to the Training set\n",
        "regressor.fit(X_train, y_train, epochs = 100, batch_size = 32)\n"
      ],
      "execution_count": null,
      "outputs": [
        {
          "output_type": "stream",
          "text": [
            "Epoch 1/100\n",
            "38/38 [==============================] - 11s 15ms/step - loss: 0.0742\n",
            "Epoch 2/100\n",
            "38/38 [==============================] - 0s 11ms/step - loss: 0.0067\n",
            "Epoch 3/100\n",
            "38/38 [==============================] - 0s 12ms/step - loss: 0.0059\n",
            "Epoch 4/100\n",
            "38/38 [==============================] - 0s 11ms/step - loss: 0.0055\n",
            "Epoch 5/100\n",
            "38/38 [==============================] - 0s 11ms/step - loss: 0.0059\n",
            "Epoch 6/100\n",
            "38/38 [==============================] - 0s 11ms/step - loss: 0.0045\n",
            "Epoch 7/100\n",
            "38/38 [==============================] - 0s 11ms/step - loss: 0.0050\n",
            "Epoch 8/100\n",
            "38/38 [==============================] - 0s 11ms/step - loss: 0.0049\n",
            "Epoch 9/100\n",
            "38/38 [==============================] - 0s 12ms/step - loss: 0.0046\n",
            "Epoch 10/100\n",
            "38/38 [==============================] - 0s 11ms/step - loss: 0.0054\n",
            "Epoch 11/100\n",
            "38/38 [==============================] - 0s 11ms/step - loss: 0.0048\n",
            "Epoch 12/100\n",
            "38/38 [==============================] - 0s 11ms/step - loss: 0.0038\n",
            "Epoch 13/100\n",
            "38/38 [==============================] - 0s 11ms/step - loss: 0.0038\n",
            "Epoch 14/100\n",
            "38/38 [==============================] - 0s 12ms/step - loss: 0.0039\n",
            "Epoch 15/100\n",
            "38/38 [==============================] - 0s 11ms/step - loss: 0.0045\n",
            "Epoch 16/100\n",
            "38/38 [==============================] - 0s 11ms/step - loss: 0.0045\n",
            "Epoch 17/100\n",
            "38/38 [==============================] - 0s 11ms/step - loss: 0.0036\n",
            "Epoch 18/100\n",
            "38/38 [==============================] - 0s 11ms/step - loss: 0.0040\n",
            "Epoch 19/100\n",
            "38/38 [==============================] - 0s 12ms/step - loss: 0.0031\n",
            "Epoch 20/100\n",
            "38/38 [==============================] - 0s 11ms/step - loss: 0.0034\n",
            "Epoch 21/100\n",
            "38/38 [==============================] - 0s 12ms/step - loss: 0.0036\n",
            "Epoch 22/100\n",
            "38/38 [==============================] - 0s 11ms/step - loss: 0.0033\n",
            "Epoch 23/100\n",
            "38/38 [==============================] - 0s 11ms/step - loss: 0.0033\n",
            "Epoch 24/100\n",
            "38/38 [==============================] - 0s 11ms/step - loss: 0.0031\n",
            "Epoch 25/100\n",
            "38/38 [==============================] - 0s 12ms/step - loss: 0.0033\n",
            "Epoch 26/100\n",
            "38/38 [==============================] - 0s 11ms/step - loss: 0.0031\n",
            "Epoch 27/100\n",
            "38/38 [==============================] - 0s 12ms/step - loss: 0.0033\n",
            "Epoch 28/100\n",
            "38/38 [==============================] - 0s 11ms/step - loss: 0.0028\n",
            "Epoch 29/100\n",
            "38/38 [==============================] - 0s 11ms/step - loss: 0.0031\n",
            "Epoch 30/100\n",
            "38/38 [==============================] - 0s 11ms/step - loss: 0.0027\n",
            "Epoch 31/100\n",
            "38/38 [==============================] - 0s 11ms/step - loss: 0.0026\n",
            "Epoch 32/100\n",
            "38/38 [==============================] - 0s 11ms/step - loss: 0.0029\n",
            "Epoch 33/100\n",
            "38/38 [==============================] - 0s 11ms/step - loss: 0.0025\n",
            "Epoch 34/100\n",
            "38/38 [==============================] - 0s 11ms/step - loss: 0.0030\n",
            "Epoch 35/100\n",
            "38/38 [==============================] - 0s 12ms/step - loss: 0.0027\n",
            "Epoch 36/100\n",
            "38/38 [==============================] - 0s 11ms/step - loss: 0.0030\n",
            "Epoch 37/100\n",
            "38/38 [==============================] - 0s 12ms/step - loss: 0.0033\n",
            "Epoch 38/100\n",
            "38/38 [==============================] - 0s 11ms/step - loss: 0.0030\n",
            "Epoch 39/100\n",
            "38/38 [==============================] - 0s 11ms/step - loss: 0.0027\n",
            "Epoch 40/100\n",
            "38/38 [==============================] - 0s 11ms/step - loss: 0.0028\n",
            "Epoch 41/100\n",
            "38/38 [==============================] - 0s 11ms/step - loss: 0.0026\n",
            "Epoch 42/100\n",
            "38/38 [==============================] - 0s 11ms/step - loss: 0.0023\n",
            "Epoch 43/100\n",
            "38/38 [==============================] - 0s 11ms/step - loss: 0.0026\n",
            "Epoch 44/100\n",
            "38/38 [==============================] - 0s 12ms/step - loss: 0.0024\n",
            "Epoch 45/100\n",
            "38/38 [==============================] - 0s 11ms/step - loss: 0.0028\n",
            "Epoch 46/100\n",
            "38/38 [==============================] - 0s 11ms/step - loss: 0.0024\n",
            "Epoch 47/100\n",
            "38/38 [==============================] - 0s 11ms/step - loss: 0.0020\n",
            "Epoch 48/100\n",
            "38/38 [==============================] - 0s 11ms/step - loss: 0.0030\n",
            "Epoch 49/100\n",
            "38/38 [==============================] - 0s 11ms/step - loss: 0.0024\n",
            "Epoch 50/100\n",
            "38/38 [==============================] - 0s 11ms/step - loss: 0.0021\n",
            "Epoch 51/100\n",
            "38/38 [==============================] - 0s 11ms/step - loss: 0.0025\n",
            "Epoch 52/100\n",
            "38/38 [==============================] - 0s 11ms/step - loss: 0.0022\n",
            "Epoch 53/100\n",
            "38/38 [==============================] - 0s 11ms/step - loss: 0.0022\n",
            "Epoch 54/100\n",
            "38/38 [==============================] - 0s 11ms/step - loss: 0.0021\n",
            "Epoch 55/100\n",
            "38/38 [==============================] - 0s 11ms/step - loss: 0.0020\n",
            "Epoch 56/100\n",
            "38/38 [==============================] - 0s 11ms/step - loss: 0.0023\n",
            "Epoch 57/100\n",
            "38/38 [==============================] - 0s 11ms/step - loss: 0.0020\n",
            "Epoch 58/100\n",
            "38/38 [==============================] - 0s 11ms/step - loss: 0.0022\n",
            "Epoch 59/100\n",
            "38/38 [==============================] - 0s 11ms/step - loss: 0.0023\n",
            "Epoch 60/100\n",
            "38/38 [==============================] - 0s 11ms/step - loss: 0.0021\n",
            "Epoch 61/100\n",
            "38/38 [==============================] - 0s 11ms/step - loss: 0.0020\n",
            "Epoch 62/100\n",
            "38/38 [==============================] - 0s 11ms/step - loss: 0.0019\n",
            "Epoch 63/100\n",
            "38/38 [==============================] - 0s 11ms/step - loss: 0.0021\n",
            "Epoch 64/100\n",
            "38/38 [==============================] - 0s 11ms/step - loss: 0.0017\n",
            "Epoch 65/100\n",
            "38/38 [==============================] - 0s 11ms/step - loss: 0.0018\n",
            "Epoch 66/100\n",
            "38/38 [==============================] - 0s 11ms/step - loss: 0.0018\n",
            "Epoch 67/100\n",
            "38/38 [==============================] - 0s 11ms/step - loss: 0.0020\n",
            "Epoch 68/100\n",
            "38/38 [==============================] - 0s 12ms/step - loss: 0.0015\n",
            "Epoch 69/100\n",
            "38/38 [==============================] - 0s 11ms/step - loss: 0.0021\n",
            "Epoch 70/100\n",
            "38/38 [==============================] - 0s 11ms/step - loss: 0.0018\n",
            "Epoch 71/100\n",
            "38/38 [==============================] - 0s 11ms/step - loss: 0.0022\n",
            "Epoch 72/100\n",
            "38/38 [==============================] - 0s 11ms/step - loss: 0.0017\n",
            "Epoch 73/100\n",
            "38/38 [==============================] - 0s 11ms/step - loss: 0.0017\n",
            "Epoch 74/100\n",
            "38/38 [==============================] - 0s 11ms/step - loss: 0.0022\n",
            "Epoch 75/100\n",
            "38/38 [==============================] - 0s 11ms/step - loss: 0.0018\n",
            "Epoch 76/100\n",
            "38/38 [==============================] - 0s 11ms/step - loss: 0.0018\n",
            "Epoch 77/100\n",
            "38/38 [==============================] - 0s 11ms/step - loss: 0.0015\n",
            "Epoch 78/100\n",
            "38/38 [==============================] - 0s 11ms/step - loss: 0.0015\n",
            "Epoch 79/100\n",
            "38/38 [==============================] - 0s 11ms/step - loss: 0.0015\n",
            "Epoch 80/100\n",
            "38/38 [==============================] - 0s 11ms/step - loss: 0.0015\n",
            "Epoch 81/100\n",
            "38/38 [==============================] - 0s 11ms/step - loss: 0.0016\n",
            "Epoch 82/100\n",
            "38/38 [==============================] - 0s 11ms/step - loss: 0.0017\n",
            "Epoch 83/100\n",
            "38/38 [==============================] - 0s 11ms/step - loss: 0.0018\n",
            "Epoch 84/100\n",
            "38/38 [==============================] - 0s 11ms/step - loss: 0.0015\n",
            "Epoch 85/100\n",
            "38/38 [==============================] - 0s 11ms/step - loss: 0.0018\n",
            "Epoch 86/100\n",
            "38/38 [==============================] - 0s 11ms/step - loss: 0.0014\n",
            "Epoch 87/100\n",
            "38/38 [==============================] - 0s 11ms/step - loss: 0.0017\n",
            "Epoch 88/100\n",
            "38/38 [==============================] - 0s 11ms/step - loss: 0.0017\n",
            "Epoch 89/100\n",
            "38/38 [==============================] - 0s 11ms/step - loss: 0.0019\n",
            "Epoch 90/100\n",
            "38/38 [==============================] - 0s 11ms/step - loss: 0.0015\n",
            "Epoch 91/100\n",
            "38/38 [==============================] - 0s 11ms/step - loss: 0.0013\n",
            "Epoch 92/100\n",
            "38/38 [==============================] - 0s 11ms/step - loss: 0.0016\n",
            "Epoch 93/100\n",
            "38/38 [==============================] - 0s 11ms/step - loss: 0.0016\n",
            "Epoch 94/100\n",
            "38/38 [==============================] - 0s 11ms/step - loss: 0.0014\n",
            "Epoch 95/100\n",
            "38/38 [==============================] - 0s 11ms/step - loss: 0.0019\n",
            "Epoch 96/100\n",
            "38/38 [==============================] - 0s 11ms/step - loss: 0.0015\n",
            "Epoch 97/100\n",
            "38/38 [==============================] - 0s 11ms/step - loss: 0.0014\n",
            "Epoch 98/100\n",
            "38/38 [==============================] - 0s 11ms/step - loss: 0.0016\n",
            "Epoch 99/100\n",
            "38/38 [==============================] - 0s 11ms/step - loss: 0.0014\n",
            "Epoch 100/100\n",
            "38/38 [==============================] - 0s 13ms/step - loss: 0.0014\n"
          ],
          "name": "stdout"
        },
        {
          "output_type": "execute_result",
          "data": {
            "text/plain": [
              "<tensorflow.python.keras.callbacks.History at 0x7fc6a026d650>"
            ]
          },
          "metadata": {
            "tags": []
          },
          "execution_count": 5
        }
      ]
    },
    {
      "cell_type": "code",
      "metadata": {
        "id": "TV25U4tIxxFH"
      },
      "source": [
        "# Getting the real stock price of 2017\n",
        "dataset_test = pd.read_csv('Google_Stock_Price_Test.csv')\n",
        "real_stock_price = dataset_test.iloc[:, 1:2].values\n",
        "\n",
        "# Getting the predicted stock price of 2017\n",
        "# Some stock price will come from 2016 and some from January 2017\n",
        "# We will need to concatenate all the \"Open\" stock prices nothing else\n",
        "# Concat along vertical axis set Axis = 0\n",
        "# Our RNN was trained on scaled input so data set has to be scaled\n",
        "dataset_total = pd.concat((dataset_train['Open'], dataset_test['Open']), axis = 0)\n",
        "\n",
        "# First financial day of 2017 - is 3rd January\n",
        "# We need the first stock price for Jan 2017 upto the last stock price-1 for Jan 2017\n",
        "inputs = dataset_total[len(dataset_total) - len(dataset_test) - 60:].values\n",
        "\n",
        "# the inputs are not in the form we expected because we have not used the iloc function\n",
        "# we have provided column as 1 but rows are unknown which is set to -1 \n",
        "# python on seeing -1 will try to find out the number of rows\n",
        "# check what reshape(1,-1) means \n",
        "inputs = inputs.reshape(-1,1)\n",
        "inputs = sc.transform(inputs)\n",
        "\n",
        "# we are only doing prediction so only keep x_test\n",
        "X_test = []\n",
        "# test set only has 20 days so upper bound is 60+20 = 80\n",
        "for i in range(60, 80):\n",
        "    # range in append is taken from the inputs data set created \n",
        "    X_test.append(inputs[i-60:i, 0])\n",
        "\n",
        "## Outside the for loop\n",
        "X_test = np.array(X_test)\n",
        "\n",
        "# 3D structure is needed as per Keras (seen earlier too)\n",
        "X_test = np.reshape(X_test, (X_test.shape[0], X_test.shape[1], 1))\n",
        "\n",
        "predicted_stock_price = regressor.predict(X_test)\n",
        "# Get original scale so apply inverse transform\n",
        "predicted_stock_price = sc.inverse_transform(predicted_stock_price)\n"
      ],
      "execution_count": null,
      "outputs": []
    },
    {
      "cell_type": "code",
      "metadata": {
        "colab": {
          "base_uri": "https://localhost:8080/",
          "height": 295
        },
        "id": "opMGfqPAyqw-",
        "outputId": "7ccf42d4-40cf-47ef-fd72-3c4add4e381d"
      },
      "source": [
        "# Visualising the results\n",
        "plt.plot(real_stock_price, color = 'red', label = 'Real Google Stock Price')\n",
        "plt.plot(predicted_stock_price, color = 'blue', label = 'Predicted Google Stock Price')\n",
        "plt.title('Google Stock Price Prediction')\n",
        "plt.xlabel('Time')\n",
        "plt.ylabel('Google Stock Price')\n",
        "plt.legend()\n",
        "plt.show()\n"
      ],
      "execution_count": null,
      "outputs": [
        {
          "output_type": "display_data",
          "data": {
            "image/png": "[encoded data removed]",
            "text/plain": [
              "<Figure size 432x288 with 1 Axes>"
            ]
          },
          "metadata": {
            "tags": [],
            "needs_background": "light"
          }
        }
      ]
    }
  ]
}